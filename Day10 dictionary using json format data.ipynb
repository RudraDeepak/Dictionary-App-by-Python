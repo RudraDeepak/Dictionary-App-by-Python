{
 "cells": [
  {
   "cell_type": "code",
   "execution_count": 1,
   "metadata": {},
   "outputs": [],
   "source": [
    "import json\n",
    "import random\n",
    "from difflib import get_close_matches as tqw"
   ]
  },
  {
   "cell_type": "code",
   "execution_count": 8,
   "metadata": {},
   "outputs": [
    {
     "name": "stdout",
     "output_type": "stream",
     "text": [
      "Enter : osng\n",
      "Were you looking for :  ['song', 'sing', 'long']\n",
      "Let's try again, if you found your word in above recommendations : song\n",
      "\n",
      "Meaning :  A musical piece with lyrics (or \"words to sing\"); prose that one can sing.\n"
     ]
    }
   ],
   "source": [
    "json_data=open(\"data.json\").read()\n",
    "data=json.loads(json_data)\n",
    "x=input(\"Enter : \")\n",
    "y=str.lower(x)\n",
    "y2=str.capitalize(y[0])+y[1:]\n",
    "if y in data:\n",
    "    k=len(data[y])\n",
    "    g=random.randint(0,k)\n",
    "    print(\"Meaning : \",data[y][g-1])\n",
    "elif y2 in data:\n",
    "    k=len(data[y2])\n",
    "    g=random.randint(0,k)\n",
    "    print(\"Meaning : \",data[y2][g-1])    \n",
    "else:\n",
    "    print(\"Were you looking for : \",tqw(y,data))\n",
    "    new=input(\"Let's try again, if you found your word in above recommendations : \")\n",
    "    newC=str.capitalize(new[0])+new[1:]\n",
    "    if new in data:\n",
    "        v=len(data[new])\n",
    "        g2=random.randint(0,v)\n",
    "        print(\"\\nMeaning : \",data[new][g2-1])\n",
    "    elif newC in data:\n",
    "        v=len(data[newC])\n",
    "        g2=random.randint(0,v)\n",
    "        print(\"\\nMeaning is : \",data[newC][g2-1])\n",
    "    else:\n",
    "        print(\"\\nNot a Valid search,please try again\")"
   ]
  },
  {
   "cell_type": "code",
   "execution_count": null,
   "metadata": {},
   "outputs": [],
   "source": []
  }
 ],
 "metadata": {
  "kernelspec": {
   "display_name": "Python 3",
   "language": "python",
   "name": "python3"
  },
  "language_info": {
   "codemirror_mode": {
    "name": "ipython",
    "version": 3
   },
   "file_extension": ".py",
   "mimetype": "text/x-python",
   "name": "python",
   "nbconvert_exporter": "python",
   "pygments_lexer": "ipython3",
   "version": "3.6.5"
  }
 },
 "nbformat": 4,
 "nbformat_minor": 2
}
